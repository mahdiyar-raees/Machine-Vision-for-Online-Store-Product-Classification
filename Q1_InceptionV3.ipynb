{
  "nbformat": 4,
  "nbformat_minor": 0,
  "metadata": {
    "colab": {
      "provenance": [],
      "gpuType": "T4"
    },
    "kernelspec": {
      "name": "python3",
      "display_name": "Python 3"
    },
    "language_info": {
      "name": "python"
    },
    "accelerator": "GPU"
  },
  "cells": [
    {
      "cell_type": "code",
      "execution_count": 34,
      "metadata": {
        "id": "WKoVLOKVxB4G"
      },
      "outputs": [],
      "source": [
        "import numpy             as np\n",
        "import matplotlib.pyplot as plt\n",
        "import tensorflow as tf\n",
        "from tensorflow import keras\n",
        "from tensorflow.keras import layers\n",
        "from tensorflow.keras.preprocessing.image import ImageDataGenerator\n",
        "from tensorflow.keras.optimizers import Adam\n",
        "from tensorflow.keras import layers\n",
        "\n",
        "\n",
        "from tensorflow.keras.applications import InceptionV3\n",
        "\n"
      ]
    },
    {
      "cell_type": "code",
      "source": [
        "from google.colab import drive\n",
        "drive.mount('/content/drive')\n",
        "!unzip drive/MyDrive/train_data.zip"
      ],
      "metadata": {
        "colab": {
          "base_uri": "https://localhost:8080/"
        },
        "id": "Ru-1Mhmwz9YA",
        "outputId": "9781009c-5553-4372-a7c1-5a6e233c46a2"
      },
      "execution_count": 35,
      "outputs": [
        {
          "output_type": "stream",
          "name": "stdout",
          "text": [
            "Drive already mounted at /content/drive; to attempt to forcibly remount, call drive.mount(\"/content/drive\", force_remount=True).\n",
            "Archive:  drive/MyDrive/train_data.zip\n",
            "replace train_data/4/2b6d215d5debf49f4e8b521dfe2e577f2ba287a3_1629111584.jpg? [y]es, [n]o, [A]ll, [N]one, [r]ename: "
          ]
        }
      ]
    },
    {
      "cell_type": "code",
      "source": [
        "import os\n",
        "from PIL import Image\n",
        "from collections import Counter\n",
        "\n",
        "dataset_path = 'train_data'\n",
        "\n",
        "\n",
        "def get_image_dimensions(image_path):\n",
        "    with Image.open(image_path) as img:\n",
        "        return img.size\n",
        "\n",
        "image_paths = [os.path.join(root, filename) for root, _, filenames in os.walk(dataset_path) for filename in filenames]\n",
        "\n",
        "\n",
        "image_dimensions = [get_image_dimensions(image_path) for image_path in image_paths]\n",
        "\n",
        "\n",
        "dimension_counts = Counter(image_dimensions)\n",
        "\n",
        "\n",
        "most_common_dimension = dimension_counts.most_common(1)[0][0]\n",
        "\n",
        "image_size = most_common_dimension\n",
        "\n",
        "print(\"Most common image dimensions:\", image_size)\n"
      ],
      "metadata": {
        "colab": {
          "base_uri": "https://localhost:8080/"
        },
        "id": "xUaBE59srDk4",
        "outputId": "154f3993-ff22-4ac7-96a4-c35e048d4fe2"
      },
      "execution_count": 12,
      "outputs": [
        {
          "output_type": "stream",
          "name": "stdout",
          "text": [
            "Most common image dimensions: (456, 456)\n"
          ]
        }
      ]
    },
    {
      "cell_type": "code",
      "source": [
        "dimension_counts"
      ],
      "metadata": {
        "colab": {
          "base_uri": "https://localhost:8080/"
        },
        "id": "MkmGGc4urrUd",
        "outputId": "35de6ba4-59d0-40a5-dbdf-9b0fb1d8ef11"
      },
      "execution_count": 19,
      "outputs": [
        {
          "output_type": "execute_result",
          "data": {
            "text/plain": [
              "Counter({(456, 456): 9976,\n",
              "         (455, 456): 2,\n",
              "         (456, 380): 1,\n",
              "         (456, 403): 1,\n",
              "         (456, 430): 1,\n",
              "         (419, 456): 1,\n",
              "         (417, 456): 1,\n",
              "         (398, 456): 1,\n",
              "         (456, 409): 1,\n",
              "         (456, 384): 1,\n",
              "         (426, 456): 1,\n",
              "         (431, 456): 1,\n",
              "         (456, 445): 1,\n",
              "         (399, 456): 1})"
            ]
          },
          "metadata": {},
          "execution_count": 19
        }
      ]
    },
    {
      "cell_type": "code",
      "source": [
        "image_size =  (456, 456)\n",
        "batch_size = 32\n",
        "train_data_dir = 'train_data'\n",
        "num_classes = 10\n",
        "\n",
        "# Data augmentation and preprocessing\n",
        "train_datagen = ImageDataGenerator(\n",
        "    rescale=1.0 / 255.0,\n",
        "    rotation_range=15,\n",
        "    width_shift_range=0.1,\n",
        "    height_shift_range=0.1,\n",
        "    horizontal_flip=True,\n",
        "    validation_split=0.2\n",
        ")\n",
        "\n",
        "train_generator = train_datagen.flow_from_directory(\n",
        "    train_data_dir,\n",
        "    target_size=image_size,\n",
        "    batch_size=batch_size,\n",
        "    class_mode='categorical',\n",
        "    subset='training'\n",
        ")"
      ],
      "metadata": {
        "colab": {
          "base_uri": "https://localhost:8080/"
        },
        "id": "RehrwcVFypgA",
        "outputId": "ce26d5f1-6386-4a5e-9f88-8f9028fa1e36"
      },
      "execution_count": 36,
      "outputs": [
        {
          "output_type": "stream",
          "name": "stdout",
          "text": [
            "Found 7994 images belonging to 10 classes.\n"
          ]
        }
      ]
    },
    {
      "cell_type": "code",
      "source": [
        "def lr_schedule(epoch):\n",
        "    lr = 1e-1\n",
        "    if epoch > 7:\n",
        "      lr *= 1e-4\n",
        "    elif epoch > 5:\n",
        "        lr *= 1e-3\n",
        "    elif epoch > 2:\n",
        "        lr *= 1e-2\n",
        "    return lr"
      ],
      "metadata": {
        "id": "VO0qcMqr3MiZ"
      },
      "execution_count": null,
      "outputs": []
    },
    {
      "cell_type": "code",
      "source": [
        "epochs = 5\n",
        "# Load the pre-trained InceptionV3 model without top classification layers\n",
        "base_model = InceptionV3(weights='imagenet', include_top=False, input_shape=(image_size[0], image_size[1], 3))\n",
        "\n",
        "# Freeze the layers of the pre-trained model\n",
        "for layer in base_model.layers:\n",
        "    layer.trainable = False\n",
        "\n",
        "# Create a new model on top of the pre-trained model\n",
        "x = base_model.output\n",
        "x = layers.GlobalAveragePooling2D()(x)\n",
        "x = layers.Dense(512, activation='relu', kernel_regularizer=keras.regularizers.l2(1e-4))(x)\n",
        "x = layers.Dropout(0.5)(x)\n",
        "predictions = layers.Dense(num_classes, activation='softmax')(x)\n",
        "\n",
        "model = keras.Model(inputs=base_model.input, outputs=predictions)\n",
        "lr_schedule = tf.keras.optimizers.schedules.ExponentialDecay(0.0001, 2, 0.96, staircase=True, name=None)\n",
        "# Compile the model\n",
        "model.compile(optimizer=Adam(learning_rate=lr_schedule), loss='categorical_crossentropy', metrics=['accuracy'])\n",
        "\n",
        "\n"
      ],
      "metadata": {
        "id": "PlV23ilP03Kn"
      },
      "execution_count": 40,
      "outputs": []
    },
    {
      "cell_type": "code",
      "source": [
        "# Training\n",
        "\n",
        "history = model.fit(\n",
        "    train_generator,\n",
        "    epochs=epochs,\n",
        "    verbose=1\n",
        ")\n"
      ],
      "metadata": {
        "colab": {
          "base_uri": "https://localhost:8080/"
        },
        "id": "4J9JMkcn4ahX",
        "outputId": "fc6145df-bb7c-4917-95b3-4b574ba85858"
      },
      "execution_count": 43,
      "outputs": [
        {
          "output_type": "stream",
          "name": "stdout",
          "text": [
            "Epoch 1/5\n",
            "250/250 [==============================] - 476s 2s/step - loss: 1.3623 - accuracy: 0.5550\n",
            "Epoch 2/5\n",
            "250/250 [==============================] - 462s 2s/step - loss: 1.3228 - accuracy: 0.5752\n",
            "Epoch 3/5\n",
            "250/250 [==============================] - 460s 2s/step - loss: 1.2960 - accuracy: 0.5838\n",
            "Epoch 4/5\n",
            "250/250 [==============================] - 466s 2s/step - loss: 1.2705 - accuracy: 0.5898\n",
            "Epoch 5/5\n",
            "250/250 [==============================] - 460s 2s/step - loss: 1.2547 - accuracy: 0.5941\n"
          ]
        }
      ]
    },
    {
      "cell_type": "code",
      "source": [
        "import matplotlib.pyplot as plt\n",
        "\n",
        "\n",
        "train_loss = history.history['loss']\n",
        "train_accuracy = history.history['accuracy']\n",
        "\n",
        "\n",
        "plt.figure(figsize=(12, 4))\n",
        "plt.subplot(1, 2, 1)\n",
        "plt.plot(train_loss, label='Training Loss')\n",
        "\n",
        "plt.legend()\n",
        "plt.xlabel('Epochs')\n",
        "plt.ylabel('Loss')\n",
        "plt.title('Training and Validation Loss')\n",
        "\n",
        "plt.subplot(1, 2, 2)\n",
        "plt.plot(train_accuracy, label='Training Accuracy')\n",
        "\n",
        "plt.legend()\n",
        "plt.xlabel('Epochs')\n",
        "plt.ylabel('Accuracy')\n",
        "plt.title('Training and Validation Accuracy')\n",
        "\n",
        "plt.show()\n"
      ],
      "metadata": {
        "colab": {
          "base_uri": "https://localhost:8080/",
          "height": 410
        },
        "id": "tR6A13c76Jq5",
        "outputId": "e75730fd-c6d9-41da-8cb9-b3800f5109b4"
      },
      "execution_count": 46,
      "outputs": [
        {
          "output_type": "display_data",
          "data": {
            "text/plain": [
              "<Figure size 1200x400 with 2 Axes>"
            ],
            "image/png": "[encoded data removed]"
          },
          "metadata": {}
        }
      ]
    },
    {
      "cell_type": "code",
      "source": [
        "# Save the model to a specific directory\n",
        "model.save('/content/drive/MyDrive/models/my_model.h5')\n"
      ],
      "metadata": {
        "id": "tyn72aSd0O43"
      },
      "execution_count": 47,
      "outputs": []
    },
    {
      "cell_type": "code",
      "source": [
        "# Load the saved model\n",
        "model = keras.models.load_model('/content/drive/MyDrive/models/my_model.h5')"
      ],
      "metadata": {
        "id": "NjYEXsbX0PpW"
      },
      "execution_count": 42,
      "outputs": []
    },
    {
      "cell_type": "code",
      "source": [
        "model.evaluate(train_generator)"
      ],
      "metadata": {
        "colab": {
          "base_uri": "https://localhost:8080/"
        },
        "id": "gDG0ctK3DSlv",
        "outputId": "94a80de2-12f5-4ccc-d6ca-03ef0c060cf6"
      },
      "execution_count": 48,
      "outputs": [
        {
          "output_type": "stream",
          "name": "stdout",
          "text": [
            "250/250 [==============================] - 462s 2s/step - loss: 1.1090 - accuracy: 0.6440\n"
          ]
        },
        {
          "output_type": "execute_result",
          "data": {
            "text/plain": [
              "[1.1090248823165894, 0.643983006477356]"
            ]
          },
          "metadata": {},
          "execution_count": 48
        }
      ]
    }
  ]
}